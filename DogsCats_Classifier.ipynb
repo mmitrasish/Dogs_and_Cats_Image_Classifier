{
 "cells": [
  {
   "cell_type": "code",
   "execution_count": 2,
   "metadata": {},
   "outputs": [
    {
     "name": "stdout",
     "output_type": "stream",
     "text": [
      "Requirement already satisfied: pillow in /home/mitramukh/tensorflow/lib/python3.4/site-packages\n",
      "Using TensorFlow backend.\n"
     ]
    }
   ],
   "source": [
    "##This notebook is built around using tensorflow as the backend for keras\n",
    "!pip install pillow\n",
    "!KERAS_BACKEND=tensorflow python -c \"from keras import backend\""
   ]
  },
  {
   "cell_type": "code",
   "execution_count": 3,
   "metadata": {},
   "outputs": [],
   "source": [
    "import os\n",
    "import numpy as np\n",
    "from keras.models import Sequential\n",
    "from keras.layers import Activation, Dropout, Flatten, Dense\n",
    "from keras.preprocessing.image import ImageDataGenerator\n",
    "from keras.layers import Convolution2D, MaxPooling2D, ZeroPadding2D\n",
    "from keras import optimizers"
   ]
  },
  {
   "cell_type": "code",
   "execution_count": 4,
   "metadata": {},
   "outputs": [],
   "source": [
    "# dimensions of our images.\n",
    "img_width, img_height = 150, 150\n",
    "\n",
    "train_data_dir = 'data/train'\n",
    "validation_data_dir = 'data/validation'"
   ]
  },
  {
   "cell_type": "code",
   "execution_count": 5,
   "metadata": {},
   "outputs": [
    {
     "name": "stdout",
     "output_type": "stream",
     "text": [
      "Found 2048 images belonging to 2 classes.\n",
      "Found 832 images belonging to 2 classes.\n"
     ]
    }
   ],
   "source": [
    "# used to rescale the pixel values from [0, 255] to [0, 1] interval\n",
    "datagen = ImageDataGenerator(rescale=1./255)\n",
    "\n",
    "# automagically retrieve images and their classes for train and validation sets\n",
    "train_generator = datagen.flow_from_directory(\n",
    "        train_data_dir,\n",
    "        target_size=(img_width, img_height),\n",
    "        batch_size=16,\n",
    "        class_mode='binary')\n",
    "\n",
    "validation_generator = datagen.flow_from_directory(\n",
    "        validation_data_dir,\n",
    "        target_size=(img_width, img_height),\n",
    "        batch_size=32,\n",
    "        class_mode='binary')"
   ]
  },
  {
   "cell_type": "code",
   "execution_count": 8,
   "metadata": {},
   "outputs": [
    {
     "name": "stderr",
     "output_type": "stream",
     "text": [
      "/home/mitramukh/tensorflow/lib/python3.4/site-packages/ipykernel_launcher.py:2: UserWarning: Update your `Conv2D` call to the Keras 2 API: `Conv2D(32, (3, 3), input_shape=(150, 150,...)`\n",
      "  \n",
      "/home/mitramukh/tensorflow/lib/python3.4/site-packages/ipykernel_launcher.py:6: UserWarning: Update your `Conv2D` call to the Keras 2 API: `Conv2D(32, (3, 3))`\n",
      "  \n",
      "/home/mitramukh/tensorflow/lib/python3.4/site-packages/ipykernel_launcher.py:10: UserWarning: Update your `Conv2D` call to the Keras 2 API: `Conv2D(64, (3, 3))`\n",
      "  # Remove the CWD from sys.path while we load stuff.\n"
     ]
    }
   ],
   "source": [
    "model = Sequential()\n",
    "model.add(Convolution2D(32, 3, 3, input_shape=(img_width, img_height,3)))\n",
    "model.add(Activation('relu'))\n",
    "model.add(MaxPooling2D(pool_size=(2, 2)))\n",
    "\n",
    "model.add(Convolution2D(32, 3, 3))\n",
    "model.add(Activation('relu'))\n",
    "model.add(MaxPooling2D(pool_size=(2, 2)))\n",
    "\n",
    "model.add(Convolution2D(64, 3, 3))\n",
    "model.add(Activation('relu'))\n",
    "model.add(MaxPooling2D(pool_size=(2, 2)))\n",
    "\n",
    "model.add(Flatten())\n",
    "model.add(Dense(64))\n",
    "model.add(Activation('relu'))\n",
    "model.add(Dropout(0.5))\n",
    "model.add(Dense(1))\n",
    "model.add(Activation('sigmoid'))"
   ]
  },
  {
   "cell_type": "code",
   "execution_count": 9,
   "metadata": {},
   "outputs": [],
   "source": [
    "model.compile(loss='binary_crossentropy',\n",
    "              optimizer='rmsprop',\n",
    "              metrics=['accuracy'])"
   ]
  },
  {
   "cell_type": "code",
   "execution_count": 10,
   "metadata": {},
   "outputs": [],
   "source": [
    "nb_epoch = 30\n",
    "nb_train_samples = 2048\n",
    "nb_validation_samples = 832"
   ]
  },
  {
   "cell_type": "code",
   "execution_count": null,
   "metadata": {},
   "outputs": [
    {
     "name": "stderr",
     "output_type": "stream",
     "text": [
      "/home/mitramukh/tensorflow/lib/python3.4/site-packages/ipykernel_launcher.py:6: UserWarning: The semantics of the Keras 2 argument `steps_per_epoch` is not the same as the Keras 1 argument `samples_per_epoch`. `steps_per_epoch` is the number of batches to draw from the generator at each epoch. Basically steps_per_epoch = samples_per_epoch/batch_size. Similarly `nb_val_samples`->`validation_steps` and `val_samples`->`steps` arguments have changed. Update your method calls accordingly.\n",
      "  \n",
      "/home/mitramukh/tensorflow/lib/python3.4/site-packages/ipykernel_launcher.py:6: UserWarning: Update your `fit_generator` call to the Keras 2 API: `fit_generator(<keras.pre..., epochs=30, validation_steps=832, validation_data=<keras.pre..., steps_per_epoch=128)`\n",
      "  \n"
     ]
    },
    {
     "name": "stdout",
     "output_type": "stream",
     "text": [
      "Epoch 1/30\n",
      "128/128 [==============================] - 644s 5s/step - loss: 0.7836 - acc: 0.5703 - val_loss: 0.6698 - val_acc: 0.6070\n",
      "Epoch 2/30\n",
      "128/128 [==============================] - 809s 6s/step - loss: 0.7411 - acc: 0.6484 - val_loss: 0.6972 - val_acc: 0.6094\n",
      "Epoch 3/30\n",
      "128/128 [==============================] - 764s 6s/step - loss: 0.8851 - acc: 0.6270 - val_loss: 0.6893 - val_acc: 0.5541\n",
      "Epoch 4/30\n",
      "128/128 [==============================] - 45064s 352s/step - loss: 0.7325 - acc: 0.6665 - val_loss: 0.9919 - val_acc: 0.6010\n",
      "Epoch 5/30\n",
      "128/128 [==============================] - 694s 5s/step - loss: 0.7185 - acc: 0.7100 - val_loss: 0.7373 - val_acc: 0.5817\n",
      "Epoch 6/30\n",
      "128/128 [==============================] - 684s 5s/step - loss: 0.7388 - acc: 0.6997 - val_loss: 0.8207 - val_acc: 0.5865\n",
      "Epoch 7/30\n",
      "128/128 [==============================] - 683s 5s/step - loss: 0.8956 - acc: 0.6782 - val_loss: 0.8583 - val_acc: 0.5493\n",
      "Epoch 8/30\n",
      "128/128 [==============================] - 834s 7s/step - loss: 0.7281 - acc: 0.6743 - val_loss: 0.7159 - val_acc: 0.5349\n",
      "Epoch 9/30\n",
      "128/128 [==============================] - 802s 6s/step - loss: 0.6475 - acc: 0.7041 - val_loss: 1.4037 - val_acc: 0.5132\n",
      "Epoch 10/30\n",
      "128/128 [==============================] - 25333s 198s/step - loss: 1.0674 - acc: 0.6733 - val_loss: 1.9131 - val_acc: 0.5012\n",
      "Epoch 11/30\n",
      "128/128 [==============================] - 799s 6s/step - loss: 0.8047 - acc: 0.6265 - val_loss: 1.6992 - val_acc: 0.5938\n",
      "Epoch 12/30\n",
      "128/128 [==============================] - 754s 6s/step - loss: 0.8100 - acc: 0.6807 - val_loss: 0.8443 - val_acc: 0.5397\n",
      "Epoch 13/30\n",
      "128/128 [==============================] - 790s 6s/step - loss: 0.8473 - acc: 0.7095 - val_loss: 0.8091 - val_acc: 0.5204\n",
      "Epoch 14/30\n",
      "128/128 [==============================] - 816s 6s/step - loss: 0.8078 - acc: 0.6538 - val_loss: 0.7581 - val_acc: 0.5300\n",
      "Epoch 15/30\n",
      "128/128 [==============================] - 772s 6s/step - loss: 0.8622 - acc: 0.6514 - val_loss: 0.8612 - val_acc: 0.5216\n",
      "Epoch 16/30\n",
      "128/128 [==============================] - 792s 6s/step - loss: 0.8172 - acc: 0.6509 - val_loss: 0.7172 - val_acc: 0.5601\n",
      "Epoch 17/30\n",
      "128/128 [==============================] - 745s 6s/step - loss: 0.9642 - acc: 0.5913 - val_loss: 0.7822 - val_acc: 0.5577\n",
      "Epoch 18/30\n",
      "128/128 [==============================] - 753s 6s/step - loss: 5.2211 - acc: 0.5312 - val_loss: 7.9712 - val_acc: 0.5000\n",
      "Epoch 19/30\n",
      "128/128 [==============================] - 780s 6s/step - loss: 8.0349 - acc: 0.4976 - val_loss: 7.8754 - val_acc: 0.5060\n",
      "Epoch 20/30\n",
      "128/128 [==============================] - 851s 7s/step - loss: 8.2638 - acc: 0.4829 - val_loss: 7.8355 - val_acc: 0.5084\n",
      "Epoch 21/30\n",
      "128/128 [==============================] - 818s 6s/step - loss: 8.1433 - acc: 0.4932 - val_loss: 8.0590 - val_acc: 0.5000\n",
      "Epoch 22/30\n",
      "128/128 [==============================] - 1531s 12s/step - loss: 7.9966 - acc: 0.5005 - val_loss: 7.9712 - val_acc: 0.5000\n",
      "Epoch 23/30\n",
      "128/128 [==============================] - 800s 6s/step - loss: 7.8934 - acc: 0.5044 - val_loss: 7.9712 - val_acc: 0.5000\n",
      "Epoch 24/30\n",
      "128/128 [==============================] - 875s 7s/step - loss: 7.8282 - acc: 0.5088 - val_loss: 7.9712 - val_acc: 0.5000\n",
      "Epoch 25/30\n",
      "128/128 [==============================] - 802s 6s/step - loss: 7.7943 - acc: 0.5122 - val_loss: 7.9712 - val_acc: 0.5000\n",
      "Epoch 26/30\n",
      "128/128 [==============================] - 678s 5s/step - loss: 7.8810 - acc: 0.5059 - val_loss: 7.9712 - val_acc: 0.5000\n",
      "Epoch 27/30\n",
      "128/128 [==============================] - 741s 6s/step - loss: 7.9375 - acc: 0.5024 - val_loss: 7.9712 - val_acc: 0.5000\n",
      "Epoch 28/30\n",
      "127/128 [============================>.] - ETA: 1s - loss: 7.9449 - acc: 0.5020"
     ]
    }
   ],
   "source": [
    "model.fit_generator(\n",
    "        train_generator,\n",
    "        samples_per_epoch=nb_train_samples,\n",
    "        nb_epoch=nb_epoch,\n",
    "        validation_data=validation_generator,\n",
    "        nb_val_samples=nb_validation_samples)"
   ]
  },
  {
   "cell_type": "code",
   "execution_count": null,
   "metadata": {},
   "outputs": [],
   "source": [
    "model.save_weights('models/basic_cnn_20_epochs.h5')"
   ]
  }
 ],
 "metadata": {
  "kernelspec": {
   "display_name": "Python 3",
   "language": "python",
   "name": "python3"
  },
  "language_info": {
   "codemirror_mode": {
    "name": "ipython",
    "version": 3
   },
   "file_extension": ".py",
   "mimetype": "text/x-python",
   "name": "python",
   "nbconvert_exporter": "python",
   "pygments_lexer": "ipython3",
   "version": "3.4.3"
  }
 },
 "nbformat": 4,
 "nbformat_minor": 2
}
